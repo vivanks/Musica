{
 "cells": [
  {
   "cell_type": "markdown",
   "metadata": {},
   "source": [
    "# Building a song recommender"
   ]
  },
  {
   "cell_type": "raw",
   "metadata": {},
   "source": [
    "-------------\n",
    "Dataset used:\n",
    "-------------\n",
    "Million Songs Dataset\n",
    "Source: http://labrosa.ee.columbia.edu/millionsong/\n",
    "Paper: http://ismir2011.ismir.net/papers/OS6-1.pdf\n",
    "\n",
    "The current notebook uses a subset of the above data containing 10,000 songs obtained from:\n",
    "https://github.com/turi-code/tutorials/blob/master/notebooks/recsys_rank_10K_song.ipynb"
   ]
  },
  {
   "cell_type": "code",
   "execution_count": 1,
   "metadata": {
    "collapsed": false
   },
   "outputs": [],
   "source": [
    "%matplotlib inline\n",
    "\n",
    "import pandas\n",
    "from sklearn.cross_validation import train_test_split\n",
    "import numpy as np\n",
    "import time\n",
    "from sklearn.externals import joblib\n",
    "import Recommenders as Recommenders\n",
    "import Evaluation as Evaluation"
   ]
  },
  {
   "cell_type": "markdown",
   "metadata": {},
   "source": [
    "# Load music data"
   ]
  },
  {
   "cell_type": "code",
   "execution_count": 2,
   "metadata": {
    "collapsed": false
   },
   "outputs": [],
   "source": [
    "#Read userid-songid-listen_count triplets\n",
    "#This step might take time to download data from external sources\n",
    "triplets_file = 'https://static.turi.com/datasets/millionsong/10000.txt'\n",
    "songs_metadata_file = 'https://static.turi.com/datasets/millionsong/song_data.csv'\n",
    "\n",
    "song_df_1 = pandas.read_table(triplets_file,header=None)\n",
    "song_df_1.columns = ['user_id', 'song_id', 'listen_count']\n",
    "\n",
    "#Read song  metadata\n",
    "song_df_2 =  pandas.read_csv(songs_metadata_file)\n",
    "\n",
    "#Merge the two dataframes above to create input dataframe for recommender systems\n",
    "song_df = pandas.merge(song_df_1, song_df_2.drop_duplicates(['song_id']), on=\"song_id\", how=\"left\") "
   ]
  },
  {
   "cell_type": "markdown",
   "metadata": {},
   "source": [
    "# Explore data\n",
    "\n",
    "Music data shows how many times a user listened to a song, as well as the details of the song."
   ]
  },
  {
   "cell_type": "code",
   "execution_count": 3,
   "metadata": {
    "collapsed": false
   },
   "outputs": [
    {
     "data": {
      "text/html": [
       "<div>\n",
       "<table border=\"1\" class=\"dataframe\">\n",
       "  <thead>\n",
       "    <tr style=\"text-align: right;\">\n",
       "      <th></th>\n",
       "      <th>user_id</th>\n",
       "      <th>song_id</th>\n",
       "      <th>listen_count</th>\n",
       "      <th>title</th>\n",
       "      <th>release</th>\n",
       "      <th>artist_name</th>\n",
       "      <th>year</th>\n",
       "    </tr>\n",
       "  </thead>\n",
       "  <tbody>\n",
       "    <tr>\n",
       "      <th>0</th>\n",
       "      <td>b80344d063b5ccb3212f76538f3d9e43d87dca9e</td>\n",
       "      <td>SOAKIMP12A8C130995</td>\n",
       "      <td>1</td>\n",
       "      <td>The Cove</td>\n",
       "      <td>Thicker Than Water</td>\n",
       "      <td>Jack Johnson</td>\n",
       "      <td>0</td>\n",
       "    </tr>\n",
       "    <tr>\n",
       "      <th>1</th>\n",
       "      <td>b80344d063b5ccb3212f76538f3d9e43d87dca9e</td>\n",
       "      <td>SOBBMDR12A8C13253B</td>\n",
       "      <td>2</td>\n",
       "      <td>Entre Dos Aguas</td>\n",
       "      <td>Flamenco Para Niños</td>\n",
       "      <td>Paco De Lucia</td>\n",
       "      <td>1976</td>\n",
       "    </tr>\n",
       "    <tr>\n",
       "      <th>2</th>\n",
       "      <td>b80344d063b5ccb3212f76538f3d9e43d87dca9e</td>\n",
       "      <td>SOBXHDL12A81C204C0</td>\n",
       "      <td>1</td>\n",
       "      <td>Stronger</td>\n",
       "      <td>Graduation</td>\n",
       "      <td>Kanye West</td>\n",
       "      <td>2007</td>\n",
       "    </tr>\n",
       "    <tr>\n",
       "      <th>3</th>\n",
       "      <td>b80344d063b5ccb3212f76538f3d9e43d87dca9e</td>\n",
       "      <td>SOBYHAJ12A6701BF1D</td>\n",
       "      <td>1</td>\n",
       "      <td>Constellations</td>\n",
       "      <td>In Between Dreams</td>\n",
       "      <td>Jack Johnson</td>\n",
       "      <td>2005</td>\n",
       "    </tr>\n",
       "    <tr>\n",
       "      <th>4</th>\n",
       "      <td>b80344d063b5ccb3212f76538f3d9e43d87dca9e</td>\n",
       "      <td>SODACBL12A8C13C273</td>\n",
       "      <td>1</td>\n",
       "      <td>Learn To Fly</td>\n",
       "      <td>There Is Nothing Left To Lose</td>\n",
       "      <td>Foo Fighters</td>\n",
       "      <td>1999</td>\n",
       "    </tr>\n",
       "  </tbody>\n",
       "</table>\n",
       "</div>"
      ],
      "text/plain": [
       "                                    user_id             song_id  listen_count  \\\n",
       "0  b80344d063b5ccb3212f76538f3d9e43d87dca9e  SOAKIMP12A8C130995             1   \n",
       "1  b80344d063b5ccb3212f76538f3d9e43d87dca9e  SOBBMDR12A8C13253B             2   \n",
       "2  b80344d063b5ccb3212f76538f3d9e43d87dca9e  SOBXHDL12A81C204C0             1   \n",
       "3  b80344d063b5ccb3212f76538f3d9e43d87dca9e  SOBYHAJ12A6701BF1D             1   \n",
       "4  b80344d063b5ccb3212f76538f3d9e43d87dca9e  SODACBL12A8C13C273             1   \n",
       "\n",
       "             title                        release    artist_name  year  \n",
       "0         The Cove             Thicker Than Water   Jack Johnson     0  \n",
       "1  Entre Dos Aguas            Flamenco Para Niños  Paco De Lucia  1976  \n",
       "2         Stronger                     Graduation     Kanye West  2007  \n",
       "3   Constellations              In Between Dreams   Jack Johnson  2005  \n",
       "4     Learn To Fly  There Is Nothing Left To Lose   Foo Fighters  1999  "
      ]
     },
     "execution_count": 3,
     "metadata": {},
     "output_type": "execute_result"
    }
   ],
   "source": [
    "song_df.head()"
   ]
  },
  {
   "cell_type": "markdown",
   "metadata": {},
   "source": [
    "## Length of the dataset"
   ]
  },
  {
   "cell_type": "code",
   "execution_count": 4,
   "metadata": {
    "collapsed": false
   },
   "outputs": [
    {
     "data": {
      "text/plain": [
       "2000000"
      ]
     },
     "execution_count": 4,
     "metadata": {},
     "output_type": "execute_result"
    }
   ],
   "source": [
    "len(song_df)"
   ]
  },
  {
   "cell_type": "markdown",
   "metadata": {},
   "source": [
    "## Create a subset of the dataset"
   ]
  },
  {
   "cell_type": "code",
   "execution_count": 5,
   "metadata": {
    "collapsed": false
   },
   "outputs": [],
   "source": [
    "song_df = song_df.head(10000)\n",
    "\n",
    "#Merge song title and artist_name columns to make a merged column\n",
    "song_df['song'] = song_df['title'].map(str) + \" - \" + song_df['artist_name']"
   ]
  },
  {
   "cell_type": "markdown",
   "metadata": {},
   "source": [
    "## Showing the most popular songs in the dataset"
   ]
  },
  {
   "cell_type": "code",
   "execution_count": 6,
   "metadata": {
    "collapsed": false
   },
   "outputs": [
    {
     "data": {
      "text/html": [
       "<div>\n",
       "<table border=\"1\" class=\"dataframe\">\n",
       "  <thead>\n",
       "    <tr style=\"text-align: right;\">\n",
       "      <th></th>\n",
       "      <th>song</th>\n",
       "      <th>listen_count</th>\n",
       "      <th>percentage</th>\n",
       "    </tr>\n",
       "  </thead>\n",
       "  <tbody>\n",
       "    <tr>\n",
       "      <th>3660</th>\n",
       "      <td>Sehr kosmisch - Harmonia</td>\n",
       "      <td>45</td>\n",
       "      <td>0.45</td>\n",
       "    </tr>\n",
       "    <tr>\n",
       "      <th>4678</th>\n",
       "      <td>Undo - Björk</td>\n",
       "      <td>32</td>\n",
       "      <td>0.32</td>\n",
       "    </tr>\n",
       "    <tr>\n",
       "      <th>5105</th>\n",
       "      <td>You're The One - Dwight Yoakam</td>\n",
       "      <td>32</td>\n",
       "      <td>0.32</td>\n",
       "    </tr>\n",
       "    <tr>\n",
       "      <th>1071</th>\n",
       "      <td>Dog Days Are Over (Radio Edit) - Florence + Th...</td>\n",
       "      <td>28</td>\n",
       "      <td>0.28</td>\n",
       "    </tr>\n",
       "    <tr>\n",
       "      <th>3655</th>\n",
       "      <td>Secrets - OneRepublic</td>\n",
       "      <td>28</td>\n",
       "      <td>0.28</td>\n",
       "    </tr>\n",
       "    <tr>\n",
       "      <th>4378</th>\n",
       "      <td>The Scientist - Coldplay</td>\n",
       "      <td>27</td>\n",
       "      <td>0.27</td>\n",
       "    </tr>\n",
       "    <tr>\n",
       "      <th>4712</th>\n",
       "      <td>Use Somebody - Kings Of Leon</td>\n",
       "      <td>27</td>\n",
       "      <td>0.27</td>\n",
       "    </tr>\n",
       "    <tr>\n",
       "      <th>3476</th>\n",
       "      <td>Revelry - Kings Of Leon</td>\n",
       "      <td>26</td>\n",
       "      <td>0.26</td>\n",
       "    </tr>\n",
       "    <tr>\n",
       "      <th>1387</th>\n",
       "      <td>Fireflies - Charttraxx Karaoke</td>\n",
       "      <td>24</td>\n",
       "      <td>0.24</td>\n",
       "    </tr>\n",
       "    <tr>\n",
       "      <th>1862</th>\n",
       "      <td>Horn Concerto No. 4 in E flat K495: II. Romanc...</td>\n",
       "      <td>23</td>\n",
       "      <td>0.23</td>\n",
       "    </tr>\n",
       "    <tr>\n",
       "      <th>1805</th>\n",
       "      <td>Hey_ Soul Sister - Train</td>\n",
       "      <td>22</td>\n",
       "      <td>0.22</td>\n",
       "    </tr>\n",
       "    <tr>\n",
       "      <th>5032</th>\n",
       "      <td>Yellow - Coldplay</td>\n",
       "      <td>22</td>\n",
       "      <td>0.22</td>\n",
       "    </tr>\n",
       "    <tr>\n",
       "      <th>808</th>\n",
       "      <td>Clocks - Coldplay</td>\n",
       "      <td>21</td>\n",
       "      <td>0.21</td>\n",
       "    </tr>\n",
       "    <tr>\n",
       "      <th>2620</th>\n",
       "      <td>Lucky (Album Version) - Jason Mraz &amp; Colbie Ca...</td>\n",
       "      <td>20</td>\n",
       "      <td>0.20</td>\n",
       "    </tr>\n",
       "    <tr>\n",
       "      <th>2299</th>\n",
       "      <td>Just Dance - Lady GaGa / Colby O'Donis</td>\n",
       "      <td>19</td>\n",
       "      <td>0.19</td>\n",
       "    </tr>\n",
       "    <tr>\n",
       "      <th>456</th>\n",
       "      <td>Billionaire [feat. Bruno Mars]  (Explicit Albu...</td>\n",
       "      <td>18</td>\n",
       "      <td>0.18</td>\n",
       "    </tr>\n",
       "    <tr>\n",
       "      <th>2689</th>\n",
       "      <td>Marry Me - Train</td>\n",
       "      <td>18</td>\n",
       "      <td>0.18</td>\n",
       "    </tr>\n",
       "    <tr>\n",
       "      <th>3064</th>\n",
       "      <td>OMG - Usher featuring will.i.am</td>\n",
       "      <td>18</td>\n",
       "      <td>0.18</td>\n",
       "    </tr>\n",
       "    <tr>\n",
       "      <th>4543</th>\n",
       "      <td>Tive Sim - Cartola</td>\n",
       "      <td>18</td>\n",
       "      <td>0.18</td>\n",
       "    </tr>\n",
       "    <tr>\n",
       "      <th>142</th>\n",
       "      <td>Alejandro - Lady GaGa</td>\n",
       "      <td>17</td>\n",
       "      <td>0.17</td>\n",
       "    </tr>\n",
       "    <tr>\n",
       "      <th>726</th>\n",
       "      <td>Catch You Baby (Steve Pitron &amp; Max Sanna Radio...</td>\n",
       "      <td>17</td>\n",
       "      <td>0.17</td>\n",
       "    </tr>\n",
       "    <tr>\n",
       "      <th>1410</th>\n",
       "      <td>Float On - Modest Mouse</td>\n",
       "      <td>17</td>\n",
       "      <td>0.17</td>\n",
       "    </tr>\n",
       "    <tr>\n",
       "      <th>3868</th>\n",
       "      <td>Somebody To Love - Justin Bieber</td>\n",
       "      <td>17</td>\n",
       "      <td>0.17</td>\n",
       "    </tr>\n",
       "    <tr>\n",
       "      <th>631</th>\n",
       "      <td>Bulletproof - La Roux</td>\n",
       "      <td>16</td>\n",
       "      <td>0.16</td>\n",
       "    </tr>\n",
       "    <tr>\n",
       "      <th>1143</th>\n",
       "      <td>Drop The World - Lil Wayne / Eminem</td>\n",
       "      <td>16</td>\n",
       "      <td>0.16</td>\n",
       "    </tr>\n",
       "    <tr>\n",
       "      <th>3038</th>\n",
       "      <td>Nothin' On You [feat. Bruno Mars] (Album Versi...</td>\n",
       "      <td>16</td>\n",
       "      <td>0.16</td>\n",
       "    </tr>\n",
       "    <tr>\n",
       "      <th>4465</th>\n",
       "      <td>They Might Follow You - Tiny Vipers</td>\n",
       "      <td>16</td>\n",
       "      <td>0.16</td>\n",
       "    </tr>\n",
       "    <tr>\n",
       "      <th>870</th>\n",
       "      <td>Cosmic Love - Florence + The Machine</td>\n",
       "      <td>15</td>\n",
       "      <td>0.15</td>\n",
       "    </tr>\n",
       "    <tr>\n",
       "      <th>899</th>\n",
       "      <td>Creep (Explicit) - Radiohead</td>\n",
       "      <td>15</td>\n",
       "      <td>0.15</td>\n",
       "    </tr>\n",
       "    <tr>\n",
       "      <th>1680</th>\n",
       "      <td>Halo - Beyoncé</td>\n",
       "      <td>15</td>\n",
       "      <td>0.15</td>\n",
       "    </tr>\n",
       "    <tr>\n",
       "      <th>...</th>\n",
       "      <td>...</td>\n",
       "      <td>...</td>\n",
       "      <td>...</td>\n",
       "    </tr>\n",
       "    <tr>\n",
       "      <th>5094</th>\n",
       "      <td>You Yourself are Too Serious - The Mercury Pro...</td>\n",
       "      <td>1</td>\n",
       "      <td>0.01</td>\n",
       "    </tr>\n",
       "    <tr>\n",
       "      <th>5098</th>\n",
       "      <td>You'll Never Know (My Love) (Bovellian 07 Mix)...</td>\n",
       "      <td>1</td>\n",
       "      <td>0.01</td>\n",
       "    </tr>\n",
       "    <tr>\n",
       "      <th>5100</th>\n",
       "      <td>You're A Wolf (Album) - Sea Wolf</td>\n",
       "      <td>1</td>\n",
       "      <td>0.01</td>\n",
       "    </tr>\n",
       "    <tr>\n",
       "      <th>5102</th>\n",
       "      <td>You're Gonna Miss Me When I'm Gone - Brooks &amp; ...</td>\n",
       "      <td>1</td>\n",
       "      <td>0.01</td>\n",
       "    </tr>\n",
       "    <tr>\n",
       "      <th>5103</th>\n",
       "      <td>You're Not Alone - ATB</td>\n",
       "      <td>1</td>\n",
       "      <td>0.01</td>\n",
       "    </tr>\n",
       "    <tr>\n",
       "      <th>5104</th>\n",
       "      <td>You're Not Alone - Olive</td>\n",
       "      <td>1</td>\n",
       "      <td>0.01</td>\n",
       "    </tr>\n",
       "    <tr>\n",
       "      <th>5108</th>\n",
       "      <td>You've Passed - Neutral Milk Hotel</td>\n",
       "      <td>1</td>\n",
       "      <td>0.01</td>\n",
       "    </tr>\n",
       "    <tr>\n",
       "      <th>5109</th>\n",
       "      <td>Young - Hollywood Undead</td>\n",
       "      <td>1</td>\n",
       "      <td>0.01</td>\n",
       "    </tr>\n",
       "    <tr>\n",
       "      <th>5111</th>\n",
       "      <td>Younger Than Springtime - William Tabbert</td>\n",
       "      <td>1</td>\n",
       "      <td>0.01</td>\n",
       "    </tr>\n",
       "    <tr>\n",
       "      <th>5112</th>\n",
       "      <td>Your Arms Feel Like home - 3 Doors Down</td>\n",
       "      <td>1</td>\n",
       "      <td>0.01</td>\n",
       "    </tr>\n",
       "    <tr>\n",
       "      <th>5113</th>\n",
       "      <td>Your Every Idol - Telefon Tel Aviv</td>\n",
       "      <td>1</td>\n",
       "      <td>0.01</td>\n",
       "    </tr>\n",
       "    <tr>\n",
       "      <th>5114</th>\n",
       "      <td>Your Ex-Lover Is Dead (Album Version) - Stars</td>\n",
       "      <td>1</td>\n",
       "      <td>0.01</td>\n",
       "    </tr>\n",
       "    <tr>\n",
       "      <th>5115</th>\n",
       "      <td>Your Guardian Angel - The Red Jumpsuit Apparatus</td>\n",
       "      <td>1</td>\n",
       "      <td>0.01</td>\n",
       "    </tr>\n",
       "    <tr>\n",
       "      <th>5117</th>\n",
       "      <td>Your House - Jimmy Eat World</td>\n",
       "      <td>1</td>\n",
       "      <td>0.01</td>\n",
       "    </tr>\n",
       "    <tr>\n",
       "      <th>5118</th>\n",
       "      <td>Your Love - The Outfield</td>\n",
       "      <td>1</td>\n",
       "      <td>0.01</td>\n",
       "    </tr>\n",
       "    <tr>\n",
       "      <th>5121</th>\n",
       "      <td>Your Mouth - Telefon Tel Aviv</td>\n",
       "      <td>1</td>\n",
       "      <td>0.01</td>\n",
       "    </tr>\n",
       "    <tr>\n",
       "      <th>5123</th>\n",
       "      <td>Your Song (Alternate Take 10) - Cilla Black</td>\n",
       "      <td>1</td>\n",
       "      <td>0.01</td>\n",
       "    </tr>\n",
       "    <tr>\n",
       "      <th>5126</th>\n",
       "      <td>Your Visits Are Getting Shorter - Bloc Party</td>\n",
       "      <td>1</td>\n",
       "      <td>0.01</td>\n",
       "    </tr>\n",
       "    <tr>\n",
       "      <th>5127</th>\n",
       "      <td>Your Woman - White Town</td>\n",
       "      <td>1</td>\n",
       "      <td>0.01</td>\n",
       "    </tr>\n",
       "    <tr>\n",
       "      <th>5130</th>\n",
       "      <td>Ze Rook Naar Rozen - Rob De Nijs</td>\n",
       "      <td>1</td>\n",
       "      <td>0.01</td>\n",
       "    </tr>\n",
       "    <tr>\n",
       "      <th>5131</th>\n",
       "      <td>Zebra - Beach House</td>\n",
       "      <td>1</td>\n",
       "      <td>0.01</td>\n",
       "    </tr>\n",
       "    <tr>\n",
       "      <th>5132</th>\n",
       "      <td>Zebra - Man Man</td>\n",
       "      <td>1</td>\n",
       "      <td>0.01</td>\n",
       "    </tr>\n",
       "    <tr>\n",
       "      <th>5133</th>\n",
       "      <td>Zero - The Pain Machinery</td>\n",
       "      <td>1</td>\n",
       "      <td>0.01</td>\n",
       "    </tr>\n",
       "    <tr>\n",
       "      <th>5135</th>\n",
       "      <td>Zopf: Pigtail - Penguin Café Orchestra</td>\n",
       "      <td>1</td>\n",
       "      <td>0.01</td>\n",
       "    </tr>\n",
       "    <tr>\n",
       "      <th>5137</th>\n",
       "      <td>aNYway - Armand Van Helden &amp; A-TRAK Present Du...</td>\n",
       "      <td>1</td>\n",
       "      <td>0.01</td>\n",
       "    </tr>\n",
       "    <tr>\n",
       "      <th>5139</th>\n",
       "      <td>high fives - Four Tet</td>\n",
       "      <td>1</td>\n",
       "      <td>0.01</td>\n",
       "    </tr>\n",
       "    <tr>\n",
       "      <th>5140</th>\n",
       "      <td>in white rooms - Booka Shade</td>\n",
       "      <td>1</td>\n",
       "      <td>0.01</td>\n",
       "    </tr>\n",
       "    <tr>\n",
       "      <th>5143</th>\n",
       "      <td>paranoid android - Christopher O'Riley</td>\n",
       "      <td>1</td>\n",
       "      <td>0.01</td>\n",
       "    </tr>\n",
       "    <tr>\n",
       "      <th>5149</th>\n",
       "      <td>¿Lo Ves? [Piano Y Voz] - Alejandro Sanz</td>\n",
       "      <td>1</td>\n",
       "      <td>0.01</td>\n",
       "    </tr>\n",
       "    <tr>\n",
       "      <th>5150</th>\n",
       "      <td>Época - Gotan Project</td>\n",
       "      <td>1</td>\n",
       "      <td>0.01</td>\n",
       "    </tr>\n",
       "  </tbody>\n",
       "</table>\n",
       "<p>5151 rows × 3 columns</p>\n",
       "</div>"
      ],
      "text/plain": [
       "                                                   song  listen_count  \\\n",
       "3660                           Sehr kosmisch - Harmonia            45   \n",
       "4678                                       Undo - Björk            32   \n",
       "5105                     You're The One - Dwight Yoakam            32   \n",
       "1071  Dog Days Are Over (Radio Edit) - Florence + Th...            28   \n",
       "3655                              Secrets - OneRepublic            28   \n",
       "4378                           The Scientist - Coldplay            27   \n",
       "4712                       Use Somebody - Kings Of Leon            27   \n",
       "3476                            Revelry - Kings Of Leon            26   \n",
       "1387                     Fireflies - Charttraxx Karaoke            24   \n",
       "1862  Horn Concerto No. 4 in E flat K495: II. Romanc...            23   \n",
       "1805                           Hey_ Soul Sister - Train            22   \n",
       "5032                                  Yellow - Coldplay            22   \n",
       "808                                   Clocks - Coldplay            21   \n",
       "2620  Lucky (Album Version) - Jason Mraz & Colbie Ca...            20   \n",
       "2299             Just Dance - Lady GaGa / Colby O'Donis            19   \n",
       "456   Billionaire [feat. Bruno Mars]  (Explicit Albu...            18   \n",
       "2689                                   Marry Me - Train            18   \n",
       "3064                    OMG - Usher featuring will.i.am            18   \n",
       "4543                                 Tive Sim - Cartola            18   \n",
       "142                               Alejandro - Lady GaGa            17   \n",
       "726   Catch You Baby (Steve Pitron & Max Sanna Radio...            17   \n",
       "1410                            Float On - Modest Mouse            17   \n",
       "3868                   Somebody To Love - Justin Bieber            17   \n",
       "631                               Bulletproof - La Roux            16   \n",
       "1143                Drop The World - Lil Wayne / Eminem            16   \n",
       "3038  Nothin' On You [feat. Bruno Mars] (Album Versi...            16   \n",
       "4465                They Might Follow You - Tiny Vipers            16   \n",
       "870                Cosmic Love - Florence + The Machine            15   \n",
       "899                        Creep (Explicit) - Radiohead            15   \n",
       "1680                                     Halo - Beyoncé            15   \n",
       "...                                                 ...           ...   \n",
       "5094  You Yourself are Too Serious - The Mercury Pro...             1   \n",
       "5098  You'll Never Know (My Love) (Bovellian 07 Mix)...             1   \n",
       "5100                   You're A Wolf (Album) - Sea Wolf             1   \n",
       "5102  You're Gonna Miss Me When I'm Gone - Brooks & ...             1   \n",
       "5103                             You're Not Alone - ATB             1   \n",
       "5104                           You're Not Alone - Olive             1   \n",
       "5108                 You've Passed - Neutral Milk Hotel             1   \n",
       "5109                           Young - Hollywood Undead             1   \n",
       "5111          Younger Than Springtime - William Tabbert             1   \n",
       "5112            Your Arms Feel Like home - 3 Doors Down             1   \n",
       "5113                 Your Every Idol - Telefon Tel Aviv             1   \n",
       "5114      Your Ex-Lover Is Dead (Album Version) - Stars             1   \n",
       "5115   Your Guardian Angel - The Red Jumpsuit Apparatus             1   \n",
       "5117                       Your House - Jimmy Eat World             1   \n",
       "5118                           Your Love - The Outfield             1   \n",
       "5121                      Your Mouth - Telefon Tel Aviv             1   \n",
       "5123        Your Song (Alternate Take 10) - Cilla Black             1   \n",
       "5126       Your Visits Are Getting Shorter - Bloc Party             1   \n",
       "5127                            Your Woman - White Town             1   \n",
       "5130                   Ze Rook Naar Rozen - Rob De Nijs             1   \n",
       "5131                                Zebra - Beach House             1   \n",
       "5132                                    Zebra - Man Man             1   \n",
       "5133                          Zero - The Pain Machinery             1   \n",
       "5135             Zopf: Pigtail - Penguin Café Orchestra             1   \n",
       "5137  aNYway - Armand Van Helden & A-TRAK Present Du...             1   \n",
       "5139                              high fives - Four Tet             1   \n",
       "5140                       in white rooms - Booka Shade             1   \n",
       "5143             paranoid android - Christopher O'Riley             1   \n",
       "5149            ¿Lo Ves? [Piano Y Voz] - Alejandro Sanz             1   \n",
       "5150                              Época - Gotan Project             1   \n",
       "\n",
       "      percentage  \n",
       "3660        0.45  \n",
       "4678        0.32  \n",
       "5105        0.32  \n",
       "1071        0.28  \n",
       "3655        0.28  \n",
       "4378        0.27  \n",
       "4712        0.27  \n",
       "3476        0.26  \n",
       "1387        0.24  \n",
       "1862        0.23  \n",
       "1805        0.22  \n",
       "5032        0.22  \n",
       "808         0.21  \n",
       "2620        0.20  \n",
       "2299        0.19  \n",
       "456         0.18  \n",
       "2689        0.18  \n",
       "3064        0.18  \n",
       "4543        0.18  \n",
       "142         0.17  \n",
       "726         0.17  \n",
       "1410        0.17  \n",
       "3868        0.17  \n",
       "631         0.16  \n",
       "1143        0.16  \n",
       "3038        0.16  \n",
       "4465        0.16  \n",
       "870         0.15  \n",
       "899         0.15  \n",
       "1680        0.15  \n",
       "...          ...  \n",
       "5094        0.01  \n",
       "5098        0.01  \n",
       "5100        0.01  \n",
       "5102        0.01  \n",
       "5103        0.01  \n",
       "5104        0.01  \n",
       "5108        0.01  \n",
       "5109        0.01  \n",
       "5111        0.01  \n",
       "5112        0.01  \n",
       "5113        0.01  \n",
       "5114        0.01  \n",
       "5115        0.01  \n",
       "5117        0.01  \n",
       "5118        0.01  \n",
       "5121        0.01  \n",
       "5123        0.01  \n",
       "5126        0.01  \n",
       "5127        0.01  \n",
       "5130        0.01  \n",
       "5131        0.01  \n",
       "5132        0.01  \n",
       "5133        0.01  \n",
       "5135        0.01  \n",
       "5137        0.01  \n",
       "5139        0.01  \n",
       "5140        0.01  \n",
       "5143        0.01  \n",
       "5149        0.01  \n",
       "5150        0.01  \n",
       "\n",
       "[5151 rows x 3 columns]"
      ]
     },
     "execution_count": 6,
     "metadata": {},
     "output_type": "execute_result"
    }
   ],
   "source": [
    "song_grouped = song_df.groupby(['song']).agg({'listen_count': 'count'}).reset_index()\n",
    "grouped_sum = song_grouped['listen_count'].sum()\n",
    "song_grouped['percentage']  = song_grouped['listen_count'].div(grouped_sum)*100\n",
    "song_grouped.sort_values(['listen_count', 'song'], ascending = [0,1])"
   ]
  },
  {
   "cell_type": "markdown",
   "metadata": {},
   "source": [
    "## Count number of unique users in the dataset"
   ]
  },
  {
   "cell_type": "code",
   "execution_count": 8,
   "metadata": {
    "collapsed": false
   },
   "outputs": [],
   "source": [
    "users = song_df['user_id'].unique()"
   ]
  },
  {
   "cell_type": "code",
   "execution_count": 9,
   "metadata": {
    "collapsed": false
   },
   "outputs": [
    {
     "data": {
      "text/plain": [
       "365"
      ]
     },
     "execution_count": 9,
     "metadata": {},
     "output_type": "execute_result"
    }
   ],
   "source": [
    "len(users)"
   ]
  },
  {
   "cell_type": "markdown",
   "metadata": {},
   "source": [
    "## Quiz 1. Count the number of unique songs in the dataset"
   ]
  },
  {
   "cell_type": "code",
   "execution_count": 10,
   "metadata": {
    "collapsed": false
   },
   "outputs": [
    {
     "data": {
      "text/plain": [
       "5151"
      ]
     },
     "execution_count": 10,
     "metadata": {},
     "output_type": "execute_result"
    }
   ],
   "source": [
    "###Fill in the code here\n",
    "songs = song_df['song'].unique()\n",
    "len(songs)"
   ]
  },
  {
   "cell_type": "markdown",
   "metadata": {},
   "source": [
    "# Create a song recommender"
   ]
  },
  {
   "cell_type": "code",
   "execution_count": 11,
   "metadata": {
    "collapsed": false
   },
   "outputs": [
    {
     "name": "stdout",
     "output_type": "stream",
     "text": [
      "                                       user_id             song_id  \\\n",
      "7389  94d5bdc37683950e90c56c9b32721edb5d347600  SOXNZOW12AB017F756   \n",
      "9275  1012ecfd277b96487ed8357d02fa8326b13696a5  SOXHYVQ12AB0187949   \n",
      "2995  15415fa2745b344bce958967c346f2a89f792f63  SOOSZAZ12A6D4FADF8   \n",
      "5316  ffadf9297a99945c0513cd87939d91d8b602936b  SOWDJEJ12A8C1339FE   \n",
      "356   5a905f000fc1ff3df7ca807d57edb608863db05d  SOAMPRJ12A8AE45F38   \n",
      "\n",
      "      listen_count                 title  \\\n",
      "7389             2      Half Of My Heart   \n",
      "9275             1  The Beautiful People   \n",
      "2995             1     Sanctify Yourself   \n",
      "5316             4     Heart Cooks Brain   \n",
      "356             20                 Rorol   \n",
      "\n",
      "                                                release      artist_name  \\\n",
      "7389                                     Battle Studies       John Mayer   \n",
      "9275             Antichrist Superstar (Ecopac Explicit)   Marilyn Manson   \n",
      "2995                             Glittering Prize 81/92     Simple Minds   \n",
      "5316  Everything Is Nice: The Matador Records 10th A...     Modest Mouse   \n",
      "356                               Identification Parade  Octopus Project   \n",
      "\n",
      "      year                                   song  \n",
      "7389     0          Half Of My Heart - John Mayer  \n",
      "9275     0  The Beautiful People - Marilyn Manson  \n",
      "2995  1985       Sanctify Yourself - Simple Minds  \n",
      "5316  1997       Heart Cooks Brain - Modest Mouse  \n",
      "356   2002                Rorol - Octopus Project  \n"
     ]
    }
   ],
   "source": [
    "train_data, test_data = train_test_split(song_df, test_size = 0.20, random_state=0)\n",
    "print(train_data.head(5))"
   ]
  },
  {
   "cell_type": "markdown",
   "metadata": {},
   "source": [
    "## Simple popularity-based recommender class (Can be used as a black box)"
   ]
  },
  {
   "cell_type": "code",
   "execution_count": null,
   "metadata": {
    "collapsed": false
   },
   "outputs": [],
   "source": [
    "#Recommenders.popularity_recommender_py"
   ]
  },
  {
   "cell_type": "markdown",
   "metadata": {},
   "source": [
    "### Create an instance of popularity based recommender class"
   ]
  },
  {
   "cell_type": "code",
   "execution_count": 12,
   "metadata": {
    "collapsed": false
   },
   "outputs": [],
   "source": [
    "pm = Recommenders.popularity_recommender_py()\n",
    "pm.create(train_data, 'user_id', 'song')"
   ]
  },
  {
   "cell_type": "markdown",
   "metadata": {},
   "source": [
    "### Use the popularity model to make some predictions"
   ]
  },
  {
   "cell_type": "code",
   "execution_count": 13,
   "metadata": {
    "collapsed": false
   },
   "outputs": [
    {
     "data": {
      "text/html": [
       "<div>\n",
       "<table border=\"1\" class=\"dataframe\">\n",
       "  <thead>\n",
       "    <tr style=\"text-align: right;\">\n",
       "      <th></th>\n",
       "      <th>user_id</th>\n",
       "      <th>song</th>\n",
       "      <th>score</th>\n",
       "      <th>Rank</th>\n",
       "    </tr>\n",
       "  </thead>\n",
       "  <tbody>\n",
       "    <tr>\n",
       "      <th>3194</th>\n",
       "      <td>4bd88bfb25263a75bbdd467e74018f4ae570e5df</td>\n",
       "      <td>Sehr kosmisch - Harmonia</td>\n",
       "      <td>37</td>\n",
       "      <td>1</td>\n",
       "    </tr>\n",
       "    <tr>\n",
       "      <th>4083</th>\n",
       "      <td>4bd88bfb25263a75bbdd467e74018f4ae570e5df</td>\n",
       "      <td>Undo - Björk</td>\n",
       "      <td>27</td>\n",
       "      <td>2</td>\n",
       "    </tr>\n",
       "    <tr>\n",
       "      <th>931</th>\n",
       "      <td>4bd88bfb25263a75bbdd467e74018f4ae570e5df</td>\n",
       "      <td>Dog Days Are Over (Radio Edit) - Florence + Th...</td>\n",
       "      <td>24</td>\n",
       "      <td>3</td>\n",
       "    </tr>\n",
       "    <tr>\n",
       "      <th>4443</th>\n",
       "      <td>4bd88bfb25263a75bbdd467e74018f4ae570e5df</td>\n",
       "      <td>You're The One - Dwight Yoakam</td>\n",
       "      <td>24</td>\n",
       "      <td>4</td>\n",
       "    </tr>\n",
       "    <tr>\n",
       "      <th>3034</th>\n",
       "      <td>4bd88bfb25263a75bbdd467e74018f4ae570e5df</td>\n",
       "      <td>Revelry - Kings Of Leon</td>\n",
       "      <td>21</td>\n",
       "      <td>5</td>\n",
       "    </tr>\n",
       "    <tr>\n",
       "      <th>3189</th>\n",
       "      <td>4bd88bfb25263a75bbdd467e74018f4ae570e5df</td>\n",
       "      <td>Secrets - OneRepublic</td>\n",
       "      <td>21</td>\n",
       "      <td>6</td>\n",
       "    </tr>\n",
       "    <tr>\n",
       "      <th>4112</th>\n",
       "      <td>4bd88bfb25263a75bbdd467e74018f4ae570e5df</td>\n",
       "      <td>Use Somebody - Kings Of Leon</td>\n",
       "      <td>21</td>\n",
       "      <td>7</td>\n",
       "    </tr>\n",
       "    <tr>\n",
       "      <th>1207</th>\n",
       "      <td>4bd88bfb25263a75bbdd467e74018f4ae570e5df</td>\n",
       "      <td>Fireflies - Charttraxx Karaoke</td>\n",
       "      <td>20</td>\n",
       "      <td>8</td>\n",
       "    </tr>\n",
       "    <tr>\n",
       "      <th>1577</th>\n",
       "      <td>4bd88bfb25263a75bbdd467e74018f4ae570e5df</td>\n",
       "      <td>Hey_ Soul Sister - Train</td>\n",
       "      <td>19</td>\n",
       "      <td>9</td>\n",
       "    </tr>\n",
       "    <tr>\n",
       "      <th>1626</th>\n",
       "      <td>4bd88bfb25263a75bbdd467e74018f4ae570e5df</td>\n",
       "      <td>Horn Concerto No. 4 in E flat K495: II. Romanc...</td>\n",
       "      <td>19</td>\n",
       "      <td>10</td>\n",
       "    </tr>\n",
       "  </tbody>\n",
       "</table>\n",
       "</div>"
      ],
      "text/plain": [
       "                                       user_id  \\\n",
       "3194  4bd88bfb25263a75bbdd467e74018f4ae570e5df   \n",
       "4083  4bd88bfb25263a75bbdd467e74018f4ae570e5df   \n",
       "931   4bd88bfb25263a75bbdd467e74018f4ae570e5df   \n",
       "4443  4bd88bfb25263a75bbdd467e74018f4ae570e5df   \n",
       "3034  4bd88bfb25263a75bbdd467e74018f4ae570e5df   \n",
       "3189  4bd88bfb25263a75bbdd467e74018f4ae570e5df   \n",
       "4112  4bd88bfb25263a75bbdd467e74018f4ae570e5df   \n",
       "1207  4bd88bfb25263a75bbdd467e74018f4ae570e5df   \n",
       "1577  4bd88bfb25263a75bbdd467e74018f4ae570e5df   \n",
       "1626  4bd88bfb25263a75bbdd467e74018f4ae570e5df   \n",
       "\n",
       "                                                   song  score  Rank  \n",
       "3194                           Sehr kosmisch - Harmonia     37     1  \n",
       "4083                                       Undo - Björk     27     2  \n",
       "931   Dog Days Are Over (Radio Edit) - Florence + Th...     24     3  \n",
       "4443                     You're The One - Dwight Yoakam     24     4  \n",
       "3034                            Revelry - Kings Of Leon     21     5  \n",
       "3189                              Secrets - OneRepublic     21     6  \n",
       "4112                       Use Somebody - Kings Of Leon     21     7  \n",
       "1207                     Fireflies - Charttraxx Karaoke     20     8  \n",
       "1577                           Hey_ Soul Sister - Train     19     9  \n",
       "1626  Horn Concerto No. 4 in E flat K495: II. Romanc...     19    10  "
      ]
     },
     "execution_count": 13,
     "metadata": {},
     "output_type": "execute_result"
    }
   ],
   "source": [
    "user_id = users[5]\n",
    "pm.recommend(user_id)"
   ]
  },
  {
   "cell_type": "markdown",
   "metadata": {},
   "source": [
    "### Quiz 2: Use the popularity based model to make predictions for the following user id (Note the difference in recommendations from the first user id)."
   ]
  },
  {
   "cell_type": "code",
   "execution_count": 14,
   "metadata": {
    "collapsed": false
   },
   "outputs": [
    {
     "data": {
      "text/html": [
       "<div>\n",
       "<table border=\"1\" class=\"dataframe\">\n",
       "  <thead>\n",
       "    <tr style=\"text-align: right;\">\n",
       "      <th></th>\n",
       "      <th>user_id</th>\n",
       "      <th>song</th>\n",
       "      <th>score</th>\n",
       "      <th>Rank</th>\n",
       "    </tr>\n",
       "  </thead>\n",
       "  <tbody>\n",
       "    <tr>\n",
       "      <th>3194</th>\n",
       "      <td>9bb911319fbc04f01755814cb5edb21df3d1a336</td>\n",
       "      <td>Sehr kosmisch - Harmonia</td>\n",
       "      <td>37</td>\n",
       "      <td>1</td>\n",
       "    </tr>\n",
       "    <tr>\n",
       "      <th>4083</th>\n",
       "      <td>9bb911319fbc04f01755814cb5edb21df3d1a336</td>\n",
       "      <td>Undo - Björk</td>\n",
       "      <td>27</td>\n",
       "      <td>2</td>\n",
       "    </tr>\n",
       "    <tr>\n",
       "      <th>931</th>\n",
       "      <td>9bb911319fbc04f01755814cb5edb21df3d1a336</td>\n",
       "      <td>Dog Days Are Over (Radio Edit) - Florence + Th...</td>\n",
       "      <td>24</td>\n",
       "      <td>3</td>\n",
       "    </tr>\n",
       "    <tr>\n",
       "      <th>4443</th>\n",
       "      <td>9bb911319fbc04f01755814cb5edb21df3d1a336</td>\n",
       "      <td>You're The One - Dwight Yoakam</td>\n",
       "      <td>24</td>\n",
       "      <td>4</td>\n",
       "    </tr>\n",
       "    <tr>\n",
       "      <th>3034</th>\n",
       "      <td>9bb911319fbc04f01755814cb5edb21df3d1a336</td>\n",
       "      <td>Revelry - Kings Of Leon</td>\n",
       "      <td>21</td>\n",
       "      <td>5</td>\n",
       "    </tr>\n",
       "    <tr>\n",
       "      <th>3189</th>\n",
       "      <td>9bb911319fbc04f01755814cb5edb21df3d1a336</td>\n",
       "      <td>Secrets - OneRepublic</td>\n",
       "      <td>21</td>\n",
       "      <td>6</td>\n",
       "    </tr>\n",
       "    <tr>\n",
       "      <th>4112</th>\n",
       "      <td>9bb911319fbc04f01755814cb5edb21df3d1a336</td>\n",
       "      <td>Use Somebody - Kings Of Leon</td>\n",
       "      <td>21</td>\n",
       "      <td>7</td>\n",
       "    </tr>\n",
       "    <tr>\n",
       "      <th>1207</th>\n",
       "      <td>9bb911319fbc04f01755814cb5edb21df3d1a336</td>\n",
       "      <td>Fireflies - Charttraxx Karaoke</td>\n",
       "      <td>20</td>\n",
       "      <td>8</td>\n",
       "    </tr>\n",
       "    <tr>\n",
       "      <th>1577</th>\n",
       "      <td>9bb911319fbc04f01755814cb5edb21df3d1a336</td>\n",
       "      <td>Hey_ Soul Sister - Train</td>\n",
       "      <td>19</td>\n",
       "      <td>9</td>\n",
       "    </tr>\n",
       "    <tr>\n",
       "      <th>1626</th>\n",
       "      <td>9bb911319fbc04f01755814cb5edb21df3d1a336</td>\n",
       "      <td>Horn Concerto No. 4 in E flat K495: II. Romanc...</td>\n",
       "      <td>19</td>\n",
       "      <td>10</td>\n",
       "    </tr>\n",
       "  </tbody>\n",
       "</table>\n",
       "</div>"
      ],
      "text/plain": [
       "                                       user_id  \\\n",
       "3194  9bb911319fbc04f01755814cb5edb21df3d1a336   \n",
       "4083  9bb911319fbc04f01755814cb5edb21df3d1a336   \n",
       "931   9bb911319fbc04f01755814cb5edb21df3d1a336   \n",
       "4443  9bb911319fbc04f01755814cb5edb21df3d1a336   \n",
       "3034  9bb911319fbc04f01755814cb5edb21df3d1a336   \n",
       "3189  9bb911319fbc04f01755814cb5edb21df3d1a336   \n",
       "4112  9bb911319fbc04f01755814cb5edb21df3d1a336   \n",
       "1207  9bb911319fbc04f01755814cb5edb21df3d1a336   \n",
       "1577  9bb911319fbc04f01755814cb5edb21df3d1a336   \n",
       "1626  9bb911319fbc04f01755814cb5edb21df3d1a336   \n",
       "\n",
       "                                                   song  score  Rank  \n",
       "3194                           Sehr kosmisch - Harmonia     37     1  \n",
       "4083                                       Undo - Björk     27     2  \n",
       "931   Dog Days Are Over (Radio Edit) - Florence + Th...     24     3  \n",
       "4443                     You're The One - Dwight Yoakam     24     4  \n",
       "3034                            Revelry - Kings Of Leon     21     5  \n",
       "3189                              Secrets - OneRepublic     21     6  \n",
       "4112                       Use Somebody - Kings Of Leon     21     7  \n",
       "1207                     Fireflies - Charttraxx Karaoke     20     8  \n",
       "1577                           Hey_ Soul Sister - Train     19     9  \n",
       "1626  Horn Concerto No. 4 in E flat K495: II. Romanc...     19    10  "
      ]
     },
     "execution_count": 14,
     "metadata": {},
     "output_type": "execute_result"
    }
   ],
   "source": [
    "###Fill in the code here\n",
    "user_id = users[8]\n",
    "pm.recommend(user_id)\n"
   ]
  },
  {
   "cell_type": "markdown",
   "metadata": {},
   "source": [
    "## Build a song recommender with personalization\n",
    "\n",
    "We now create an item similarity based collaborative filtering model that allows us to make personalized recommendations to each user. "
   ]
  },
  {
   "cell_type": "markdown",
   "metadata": {},
   "source": [
    "## Class for an item similarity based personalized recommender system (Can be used as a black box)"
   ]
  },
  {
   "cell_type": "code",
   "execution_count": null,
   "metadata": {
    "collapsed": false
   },
   "outputs": [],
   "source": [
    "#Recommenders.item_similarity_recommender_py"
   ]
  },
  {
   "cell_type": "markdown",
   "metadata": {},
   "source": [
    "### Create an instance of item similarity based recommender class"
   ]
  },
  {
   "cell_type": "code",
   "execution_count": 15,
   "metadata": {
    "collapsed": false
   },
   "outputs": [],
   "source": [
    "is_model = Recommenders.item_similarity_recommender_py()\n",
    "is_model.create(train_data, 'user_id', 'song')"
   ]
  },
  {
   "cell_type": "markdown",
   "metadata": {},
   "source": [
    "### Use the personalized model to make some song recommendations"
   ]
  },
  {
   "cell_type": "code",
   "execution_count": 16,
   "metadata": {
    "collapsed": false
   },
   "outputs": [
    {
     "name": "stdout",
     "output_type": "stream",
     "text": [
      "------------------------------------------------------------------------------------\n",
      "Training data songs for the user userid: 4bd88bfb25263a75bbdd467e74018f4ae570e5df:\n",
      "------------------------------------------------------------------------------------\n",
      "Just Lose It - Eminem\n",
      "Without Me - Eminem\n",
      "16 Candles - The Crests\n",
      "Speechless - Lady GaGa\n",
      "Push It - Salt-N-Pepa\n",
      "Ghosts 'n' Stuff (Original Instrumental Mix) - Deadmau5\n",
      "Say My Name - Destiny's Child\n",
      "My Dad's Gone Crazy - Eminem / Hailie Jade\n",
      "The Real Slim Shady - Eminem\n",
      "Somebody To Love - Justin Bieber\n",
      "Forgive Me - Leona Lewis\n",
      "Missing You - John Waite\n",
      "Ya Nada Queda - Kudai\n",
      "----------------------------------------------------------------------\n",
      "Recommendation process going on:\n",
      "----------------------------------------------------------------------\n",
      "No. of unique songs for the user: 13\n",
      "no. of unique songs in the training set: 4483\n",
      "Non zero values in cooccurence_matrix :2097\n"
     ]
    },
    {
     "data": {
      "text/html": [
       "<div>\n",
       "<table border=\"1\" class=\"dataframe\">\n",
       "  <thead>\n",
       "    <tr style=\"text-align: right;\">\n",
       "      <th></th>\n",
       "      <th>user_id</th>\n",
       "      <th>song</th>\n",
       "      <th>score</th>\n",
       "      <th>rank</th>\n",
       "    </tr>\n",
       "  </thead>\n",
       "  <tbody>\n",
       "    <tr>\n",
       "      <th>0</th>\n",
       "      <td>4bd88bfb25263a75bbdd467e74018f4ae570e5df</td>\n",
       "      <td>Superman - Eminem / Dina Rae</td>\n",
       "      <td>0.088692</td>\n",
       "      <td>1</td>\n",
       "    </tr>\n",
       "    <tr>\n",
       "      <th>1</th>\n",
       "      <td>4bd88bfb25263a75bbdd467e74018f4ae570e5df</td>\n",
       "      <td>Mockingbird - Eminem</td>\n",
       "      <td>0.067663</td>\n",
       "      <td>2</td>\n",
       "    </tr>\n",
       "    <tr>\n",
       "      <th>2</th>\n",
       "      <td>4bd88bfb25263a75bbdd467e74018f4ae570e5df</td>\n",
       "      <td>I'm Back - Eminem</td>\n",
       "      <td>0.065385</td>\n",
       "      <td>3</td>\n",
       "    </tr>\n",
       "    <tr>\n",
       "      <th>3</th>\n",
       "      <td>4bd88bfb25263a75bbdd467e74018f4ae570e5df</td>\n",
       "      <td>U Smile - Justin Bieber</td>\n",
       "      <td>0.064525</td>\n",
       "      <td>4</td>\n",
       "    </tr>\n",
       "    <tr>\n",
       "      <th>4</th>\n",
       "      <td>4bd88bfb25263a75bbdd467e74018f4ae570e5df</td>\n",
       "      <td>Here Without You - 3 Doors Down</td>\n",
       "      <td>0.062293</td>\n",
       "      <td>5</td>\n",
       "    </tr>\n",
       "    <tr>\n",
       "      <th>5</th>\n",
       "      <td>4bd88bfb25263a75bbdd467e74018f4ae570e5df</td>\n",
       "      <td>Hellbound - J-Black &amp; Masta Ace</td>\n",
       "      <td>0.055769</td>\n",
       "      <td>6</td>\n",
       "    </tr>\n",
       "    <tr>\n",
       "      <th>6</th>\n",
       "      <td>4bd88bfb25263a75bbdd467e74018f4ae570e5df</td>\n",
       "      <td>The Seed (2.0) - The Roots / Cody Chestnutt</td>\n",
       "      <td>0.052564</td>\n",
       "      <td>7</td>\n",
       "    </tr>\n",
       "    <tr>\n",
       "      <th>7</th>\n",
       "      <td>4bd88bfb25263a75bbdd467e74018f4ae570e5df</td>\n",
       "      <td>I'm The One Who Understands (Edit Version) - War</td>\n",
       "      <td>0.052564</td>\n",
       "      <td>8</td>\n",
       "    </tr>\n",
       "    <tr>\n",
       "      <th>8</th>\n",
       "      <td>4bd88bfb25263a75bbdd467e74018f4ae570e5df</td>\n",
       "      <td>Falling - Iration</td>\n",
       "      <td>0.052564</td>\n",
       "      <td>9</td>\n",
       "    </tr>\n",
       "    <tr>\n",
       "      <th>9</th>\n",
       "      <td>4bd88bfb25263a75bbdd467e74018f4ae570e5df</td>\n",
       "      <td>Armed And Ready (2009 Digital Remaster) - The ...</td>\n",
       "      <td>0.052564</td>\n",
       "      <td>10</td>\n",
       "    </tr>\n",
       "  </tbody>\n",
       "</table>\n",
       "</div>"
      ],
      "text/plain": [
       "                                    user_id  \\\n",
       "0  4bd88bfb25263a75bbdd467e74018f4ae570e5df   \n",
       "1  4bd88bfb25263a75bbdd467e74018f4ae570e5df   \n",
       "2  4bd88bfb25263a75bbdd467e74018f4ae570e5df   \n",
       "3  4bd88bfb25263a75bbdd467e74018f4ae570e5df   \n",
       "4  4bd88bfb25263a75bbdd467e74018f4ae570e5df   \n",
       "5  4bd88bfb25263a75bbdd467e74018f4ae570e5df   \n",
       "6  4bd88bfb25263a75bbdd467e74018f4ae570e5df   \n",
       "7  4bd88bfb25263a75bbdd467e74018f4ae570e5df   \n",
       "8  4bd88bfb25263a75bbdd467e74018f4ae570e5df   \n",
       "9  4bd88bfb25263a75bbdd467e74018f4ae570e5df   \n",
       "\n",
       "                                                song     score  rank  \n",
       "0                       Superman - Eminem / Dina Rae  0.088692     1  \n",
       "1                               Mockingbird - Eminem  0.067663     2  \n",
       "2                                  I'm Back - Eminem  0.065385     3  \n",
       "3                            U Smile - Justin Bieber  0.064525     4  \n",
       "4                    Here Without You - 3 Doors Down  0.062293     5  \n",
       "5                    Hellbound - J-Black & Masta Ace  0.055769     6  \n",
       "6        The Seed (2.0) - The Roots / Cody Chestnutt  0.052564     7  \n",
       "7   I'm The One Who Understands (Edit Version) - War  0.052564     8  \n",
       "8                                  Falling - Iration  0.052564     9  \n",
       "9  Armed And Ready (2009 Digital Remaster) - The ...  0.052564    10  "
      ]
     },
     "execution_count": 16,
     "metadata": {},
     "output_type": "execute_result"
    }
   ],
   "source": [
    "#Print the songs for the user in training data\n",
    "user_id = users[5]\n",
    "user_items = is_model.get_user_items(user_id)\n",
    "#\n",
    "print(\"------------------------------------------------------------------------------------\")\n",
    "print(\"Training data songs for the user userid: %s:\" % user_id)\n",
    "print(\"------------------------------------------------------------------------------------\")\n",
    "\n",
    "for user_item in user_items:\n",
    "    print(user_item)\n",
    "\n",
    "print(\"----------------------------------------------------------------------\")\n",
    "print(\"Recommendation process going on:\")\n",
    "print(\"----------------------------------------------------------------------\")\n",
    "\n",
    "#Recommend songs for the user using personalized model\n",
    "is_model.recommend(user_id)"
   ]
  },
  {
   "cell_type": "markdown",
   "metadata": {},
   "source": [
    "### Quiz 3. Use the personalized model to make recommendations for the following user id. (Note the difference in recommendations from the first user id.)"
   ]
  },
  {
   "cell_type": "code",
   "execution_count": 17,
   "metadata": {
    "collapsed": false
   },
   "outputs": [
    {
     "name": "stdout",
     "output_type": "stream",
     "text": [
      "------------------------------------------------------------------------------------\n",
      "Training data songs for the user userid: 9d6f0ead607ac2a6c2460e4d14fb439a146b7dec:\n",
      "------------------------------------------------------------------------------------\n",
      "Swallowed In The Sea - Coldplay\n",
      "Life In Technicolor ii - Coldplay\n",
      "Life In Technicolor - Coldplay\n",
      "The Scientist - Coldplay\n",
      "Trouble - Coldplay\n",
      "Strawberry Swing - Coldplay\n",
      "Lost! - Coldplay\n",
      "Clocks - Coldplay\n",
      "----------------------------------------------------------------------\n",
      "Recommendation process going on:\n",
      "----------------------------------------------------------------------\n",
      "No. of unique songs for the user: 8\n",
      "no. of unique songs in the training set: 4483\n",
      "Non zero values in cooccurence_matrix :3429\n"
     ]
    },
    {
     "data": {
      "text/html": [
       "<div>\n",
       "<table border=\"1\" class=\"dataframe\">\n",
       "  <thead>\n",
       "    <tr style=\"text-align: right;\">\n",
       "      <th></th>\n",
       "      <th>user_id</th>\n",
       "      <th>song</th>\n",
       "      <th>score</th>\n",
       "      <th>rank</th>\n",
       "    </tr>\n",
       "  </thead>\n",
       "  <tbody>\n",
       "    <tr>\n",
       "      <th>0</th>\n",
       "      <td>9d6f0ead607ac2a6c2460e4d14fb439a146b7dec</td>\n",
       "      <td>She Just Likes To Fight - Four Tet</td>\n",
       "      <td>0.281579</td>\n",
       "      <td>1</td>\n",
       "    </tr>\n",
       "    <tr>\n",
       "      <th>1</th>\n",
       "      <td>9d6f0ead607ac2a6c2460e4d14fb439a146b7dec</td>\n",
       "      <td>Warning Sign - Coldplay</td>\n",
       "      <td>0.281579</td>\n",
       "      <td>2</td>\n",
       "    </tr>\n",
       "    <tr>\n",
       "      <th>2</th>\n",
       "      <td>9d6f0ead607ac2a6c2460e4d14fb439a146b7dec</td>\n",
       "      <td>We Never Change - Coldplay</td>\n",
       "      <td>0.281579</td>\n",
       "      <td>3</td>\n",
       "    </tr>\n",
       "    <tr>\n",
       "      <th>3</th>\n",
       "      <td>9d6f0ead607ac2a6c2460e4d14fb439a146b7dec</td>\n",
       "      <td>Puppetmad - Puppetmastaz</td>\n",
       "      <td>0.281579</td>\n",
       "      <td>4</td>\n",
       "    </tr>\n",
       "    <tr>\n",
       "      <th>4</th>\n",
       "      <td>9d6f0ead607ac2a6c2460e4d14fb439a146b7dec</td>\n",
       "      <td>God Put A Smile Upon Your Face - Coldplay</td>\n",
       "      <td>0.281579</td>\n",
       "      <td>5</td>\n",
       "    </tr>\n",
       "    <tr>\n",
       "      <th>5</th>\n",
       "      <td>9d6f0ead607ac2a6c2460e4d14fb439a146b7dec</td>\n",
       "      <td>Susie Q - Creedence Clearwater Revival</td>\n",
       "      <td>0.281579</td>\n",
       "      <td>6</td>\n",
       "    </tr>\n",
       "    <tr>\n",
       "      <th>6</th>\n",
       "      <td>9d6f0ead607ac2a6c2460e4d14fb439a146b7dec</td>\n",
       "      <td>The Joker - Fatboy Slim</td>\n",
       "      <td>0.281579</td>\n",
       "      <td>7</td>\n",
       "    </tr>\n",
       "    <tr>\n",
       "      <th>7</th>\n",
       "      <td>9d6f0ead607ac2a6c2460e4d14fb439a146b7dec</td>\n",
       "      <td>Korg Rhythm Afro - Holy Fuck</td>\n",
       "      <td>0.281579</td>\n",
       "      <td>8</td>\n",
       "    </tr>\n",
       "    <tr>\n",
       "      <th>8</th>\n",
       "      <td>9d6f0ead607ac2a6c2460e4d14fb439a146b7dec</td>\n",
       "      <td>This Unfolds - Four Tet</td>\n",
       "      <td>0.281579</td>\n",
       "      <td>9</td>\n",
       "    </tr>\n",
       "    <tr>\n",
       "      <th>9</th>\n",
       "      <td>9d6f0ead607ac2a6c2460e4d14fb439a146b7dec</td>\n",
       "      <td>high fives - Four Tet</td>\n",
       "      <td>0.281579</td>\n",
       "      <td>10</td>\n",
       "    </tr>\n",
       "  </tbody>\n",
       "</table>\n",
       "</div>"
      ],
      "text/plain": [
       "                                    user_id  \\\n",
       "0  9d6f0ead607ac2a6c2460e4d14fb439a146b7dec   \n",
       "1  9d6f0ead607ac2a6c2460e4d14fb439a146b7dec   \n",
       "2  9d6f0ead607ac2a6c2460e4d14fb439a146b7dec   \n",
       "3  9d6f0ead607ac2a6c2460e4d14fb439a146b7dec   \n",
       "4  9d6f0ead607ac2a6c2460e4d14fb439a146b7dec   \n",
       "5  9d6f0ead607ac2a6c2460e4d14fb439a146b7dec   \n",
       "6  9d6f0ead607ac2a6c2460e4d14fb439a146b7dec   \n",
       "7  9d6f0ead607ac2a6c2460e4d14fb439a146b7dec   \n",
       "8  9d6f0ead607ac2a6c2460e4d14fb439a146b7dec   \n",
       "9  9d6f0ead607ac2a6c2460e4d14fb439a146b7dec   \n",
       "\n",
       "                                        song     score  rank  \n",
       "0         She Just Likes To Fight - Four Tet  0.281579     1  \n",
       "1                    Warning Sign - Coldplay  0.281579     2  \n",
       "2                 We Never Change - Coldplay  0.281579     3  \n",
       "3                   Puppetmad - Puppetmastaz  0.281579     4  \n",
       "4  God Put A Smile Upon Your Face - Coldplay  0.281579     5  \n",
       "5     Susie Q - Creedence Clearwater Revival  0.281579     6  \n",
       "6                    The Joker - Fatboy Slim  0.281579     7  \n",
       "7               Korg Rhythm Afro - Holy Fuck  0.281579     8  \n",
       "8                    This Unfolds - Four Tet  0.281579     9  \n",
       "9                      high fives - Four Tet  0.281579    10  "
      ]
     },
     "execution_count": 17,
     "metadata": {},
     "output_type": "execute_result"
    }
   ],
   "source": [
    "user_id = users[7]\n",
    "#Fill in the code here\n",
    "user_items = is_model.get_user_items(user_id)\n",
    "#\n",
    "print(\"------------------------------------------------------------------------------------\")\n",
    "print(\"Training data songs for the user userid: %s:\" % user_id)\n",
    "print(\"------------------------------------------------------------------------------------\")\n",
    "\n",
    "for user_item in user_items:\n",
    "    print(user_item)\n",
    "\n",
    "print(\"----------------------------------------------------------------------\")\n",
    "print(\"Recommendation process going on:\")\n",
    "print(\"----------------------------------------------------------------------\")\n",
    "\n",
    "#Recommend songs for the user using personalized model\n",
    "is_model.recommend(user_id)\n"
   ]
  },
  {
   "cell_type": "markdown",
   "metadata": {},
   "source": [
    "### We can also apply the model to find similar songs to any song in the dataset"
   ]
  },
  {
   "cell_type": "code",
   "execution_count": 18,
   "metadata": {
    "collapsed": false
   },
   "outputs": [
    {
     "name": "stdout",
     "output_type": "stream",
     "text": [
      "no. of unique songs in the training set: 4483\n",
      "Non zero values in cooccurence_matrix :271\n"
     ]
    },
    {
     "data": {
      "text/html": [
       "<div>\n",
       "<table border=\"1\" class=\"dataframe\">\n",
       "  <thead>\n",
       "    <tr style=\"text-align: right;\">\n",
       "      <th></th>\n",
       "      <th>user_id</th>\n",
       "      <th>song</th>\n",
       "      <th>score</th>\n",
       "      <th>rank</th>\n",
       "    </tr>\n",
       "  </thead>\n",
       "  <tbody>\n",
       "    <tr>\n",
       "      <th>0</th>\n",
       "      <td></td>\n",
       "      <td>Somebody To Love - Justin Bieber</td>\n",
       "      <td>0.428571</td>\n",
       "      <td>1</td>\n",
       "    </tr>\n",
       "    <tr>\n",
       "      <th>1</th>\n",
       "      <td></td>\n",
       "      <td>Bad Company - Five Finger Death Punch</td>\n",
       "      <td>0.375000</td>\n",
       "      <td>2</td>\n",
       "    </tr>\n",
       "    <tr>\n",
       "      <th>2</th>\n",
       "      <td></td>\n",
       "      <td>Love Me - Justin Bieber</td>\n",
       "      <td>0.333333</td>\n",
       "      <td>3</td>\n",
       "    </tr>\n",
       "    <tr>\n",
       "      <th>3</th>\n",
       "      <td></td>\n",
       "      <td>One Time - Justin Bieber</td>\n",
       "      <td>0.333333</td>\n",
       "      <td>4</td>\n",
       "    </tr>\n",
       "    <tr>\n",
       "      <th>4</th>\n",
       "      <td></td>\n",
       "      <td>Here Without You - 3 Doors Down</td>\n",
       "      <td>0.333333</td>\n",
       "      <td>5</td>\n",
       "    </tr>\n",
       "    <tr>\n",
       "      <th>5</th>\n",
       "      <td></td>\n",
       "      <td>Stuck In The Moment - Justin Bieber</td>\n",
       "      <td>0.333333</td>\n",
       "      <td>6</td>\n",
       "    </tr>\n",
       "    <tr>\n",
       "      <th>6</th>\n",
       "      <td></td>\n",
       "      <td>Teach Me How To Dougie - California Swag District</td>\n",
       "      <td>0.333333</td>\n",
       "      <td>7</td>\n",
       "    </tr>\n",
       "    <tr>\n",
       "      <th>7</th>\n",
       "      <td></td>\n",
       "      <td>Paper Planes - M.I.A.</td>\n",
       "      <td>0.333333</td>\n",
       "      <td>8</td>\n",
       "    </tr>\n",
       "    <tr>\n",
       "      <th>8</th>\n",
       "      <td></td>\n",
       "      <td>Already Gone - Kelly Clarkson</td>\n",
       "      <td>0.333333</td>\n",
       "      <td>9</td>\n",
       "    </tr>\n",
       "    <tr>\n",
       "      <th>9</th>\n",
       "      <td></td>\n",
       "      <td>The Funeral (Album Version) - Band Of Horses</td>\n",
       "      <td>0.300000</td>\n",
       "      <td>10</td>\n",
       "    </tr>\n",
       "  </tbody>\n",
       "</table>\n",
       "</div>"
      ],
      "text/plain": [
       "  user_id                                               song     score  rank\n",
       "0                           Somebody To Love - Justin Bieber  0.428571     1\n",
       "1                      Bad Company - Five Finger Death Punch  0.375000     2\n",
       "2                                    Love Me - Justin Bieber  0.333333     3\n",
       "3                                   One Time - Justin Bieber  0.333333     4\n",
       "4                            Here Without You - 3 Doors Down  0.333333     5\n",
       "5                        Stuck In The Moment - Justin Bieber  0.333333     6\n",
       "6          Teach Me How To Dougie - California Swag District  0.333333     7\n",
       "7                                      Paper Planes - M.I.A.  0.333333     8\n",
       "8                              Already Gone - Kelly Clarkson  0.333333     9\n",
       "9               The Funeral (Album Version) - Band Of Horses  0.300000    10"
      ]
     },
     "execution_count": 18,
     "metadata": {},
     "output_type": "execute_result"
    }
   ],
   "source": [
    "is_model.get_similar_items(['U Smile - Justin Bieber'])"
   ]
  },
  {
   "cell_type": "markdown",
   "metadata": {},
   "source": [
    "### Quiz 4. Use the personalized recommender model to get similar songs for the following song."
   ]
  },
  {
   "cell_type": "code",
   "execution_count": 19,
   "metadata": {
    "collapsed": false
   },
   "outputs": [
    {
     "name": "stdout",
     "output_type": "stream",
     "text": [
      "no. of unique songs in the training set: 4483\n",
      "Non zero values in cooccurence_matrix :969\n"
     ]
    },
    {
     "data": {
      "text/html": [
       "<div>\n",
       "<table border=\"1\" class=\"dataframe\">\n",
       "  <thead>\n",
       "    <tr style=\"text-align: right;\">\n",
       "      <th></th>\n",
       "      <th>user_id</th>\n",
       "      <th>song</th>\n",
       "      <th>score</th>\n",
       "      <th>rank</th>\n",
       "    </tr>\n",
       "  </thead>\n",
       "  <tbody>\n",
       "    <tr>\n",
       "      <th>0</th>\n",
       "      <td></td>\n",
       "      <td>Fix You - Coldplay</td>\n",
       "      <td>0.375000</td>\n",
       "      <td>1</td>\n",
       "    </tr>\n",
       "    <tr>\n",
       "      <th>1</th>\n",
       "      <td></td>\n",
       "      <td>Creep (Explicit) - Radiohead</td>\n",
       "      <td>0.291667</td>\n",
       "      <td>2</td>\n",
       "    </tr>\n",
       "    <tr>\n",
       "      <th>2</th>\n",
       "      <td></td>\n",
       "      <td>Clocks - Coldplay</td>\n",
       "      <td>0.280000</td>\n",
       "      <td>3</td>\n",
       "    </tr>\n",
       "    <tr>\n",
       "      <th>3</th>\n",
       "      <td></td>\n",
       "      <td>Seven Nation Army - The White Stripes</td>\n",
       "      <td>0.250000</td>\n",
       "      <td>4</td>\n",
       "    </tr>\n",
       "    <tr>\n",
       "      <th>4</th>\n",
       "      <td></td>\n",
       "      <td>Paper Planes - M.I.A.</td>\n",
       "      <td>0.208333</td>\n",
       "      <td>5</td>\n",
       "    </tr>\n",
       "    <tr>\n",
       "      <th>5</th>\n",
       "      <td></td>\n",
       "      <td>Halo - Beyoncé</td>\n",
       "      <td>0.200000</td>\n",
       "      <td>6</td>\n",
       "    </tr>\n",
       "    <tr>\n",
       "      <th>6</th>\n",
       "      <td></td>\n",
       "      <td>The Funeral (Album Version) - Band Of Horses</td>\n",
       "      <td>0.181818</td>\n",
       "      <td>7</td>\n",
       "    </tr>\n",
       "    <tr>\n",
       "      <th>7</th>\n",
       "      <td></td>\n",
       "      <td>In My Place - Coldplay</td>\n",
       "      <td>0.181818</td>\n",
       "      <td>8</td>\n",
       "    </tr>\n",
       "    <tr>\n",
       "      <th>8</th>\n",
       "      <td></td>\n",
       "      <td>Kryptonite - 3 Doors Down</td>\n",
       "      <td>0.166667</td>\n",
       "      <td>9</td>\n",
       "    </tr>\n",
       "    <tr>\n",
       "      <th>9</th>\n",
       "      <td></td>\n",
       "      <td>When You Were Young - The Killers</td>\n",
       "      <td>0.166667</td>\n",
       "      <td>10</td>\n",
       "    </tr>\n",
       "  </tbody>\n",
       "</table>\n",
       "</div>"
      ],
      "text/plain": [
       "  user_id                                          song     score  rank\n",
       "0                                    Fix You - Coldplay  0.375000     1\n",
       "1                          Creep (Explicit) - Radiohead  0.291667     2\n",
       "2                                     Clocks - Coldplay  0.280000     3\n",
       "3                 Seven Nation Army - The White Stripes  0.250000     4\n",
       "4                                 Paper Planes - M.I.A.  0.208333     5\n",
       "5                                        Halo - Beyoncé  0.200000     6\n",
       "6          The Funeral (Album Version) - Band Of Horses  0.181818     7\n",
       "7                                In My Place - Coldplay  0.181818     8\n",
       "8                             Kryptonite - 3 Doors Down  0.166667     9\n",
       "9                     When You Were Young - The Killers  0.166667    10"
      ]
     },
     "execution_count": 19,
     "metadata": {},
     "output_type": "execute_result"
    }
   ],
   "source": [
    "song = 'Yellow - Coldplay'\n",
    "###Fill in the code here\n",
    "is_model.get_similar_items([song])"
   ]
  },
  {
   "cell_type": "markdown",
   "metadata": {},
   "source": [
    "# Quantitative comparison between the models\n",
    "\n",
    "We now formally compare the popularity and the personalized models using precision-recall curves. "
   ]
  },
  {
   "cell_type": "markdown",
   "metadata": {},
   "source": [
    "## Class to calculate precision and recall (This can be used as a black box)"
   ]
  },
  {
   "cell_type": "code",
   "execution_count": 20,
   "metadata": {
    "collapsed": false
   },
   "outputs": [],
   "source": [
    "#Evaluation.precision_recall_calculator"
   ]
  },
  {
   "cell_type": "markdown",
   "metadata": {},
   "source": [
    "## Use the above precision recall calculator class to calculate the evaluation measures"
   ]
  },
  {
   "cell_type": "code",
   "execution_count": 20,
   "metadata": {
    "collapsed": false
   },
   "outputs": [
    {
     "name": "stdout",
     "output_type": "stream",
     "text": [
      "Length of user_test_and_training:319\n",
      "Length of user sample:15\n",
      "Getting recommendations for user:ea3b77e3f9b5688dc3998b2e706ea2c0ca48b8eb\n",
      "No. of unique songs for the user: 15\n",
      "no. of unique songs in the training set: 4483\n",
      "Non zero values in cooccurence_matrix :1742\n",
      "Getting recommendations for user:78e0065cacc15d6329be91b77045f12ab18cbea5\n",
      "No. of unique songs for the user: 9\n",
      "no. of unique songs in the training set: 4483\n",
      "Non zero values in cooccurence_matrix :215\n",
      "Getting recommendations for user:5ab56ead71b71022f7043fef70a178b7035629b6\n",
      "No. of unique songs for the user: 6\n",
      "no. of unique songs in the training set: 4483\n",
      "Non zero values in cooccurence_matrix :1896\n",
      "Getting recommendations for user:881f2e87fe2a45ae27d6e235c156c762ac3cb82a\n",
      "No. of unique songs for the user: 6\n",
      "no. of unique songs in the training set: 4483\n",
      "Non zero values in cooccurence_matrix :1268\n",
      "Getting recommendations for user:5d5e0142e54c3bb7b69f548c2ee55066c90700eb\n",
      "No. of unique songs for the user: 31\n",
      "no. of unique songs in the training set: 4483\n",
      "Non zero values in cooccurence_matrix :3306\n",
      "Getting recommendations for user:be0a4b64e9689c46e94b5a9a9c7910ee61aeb16f\n",
      "No. of unique songs for the user: 76\n",
      "no. of unique songs in the training set: 4483\n",
      "Non zero values in cooccurence_matrix :12637\n",
      "Getting recommendations for user:a8268c552c1122626ba8ab4d7cf2f799de7931b2\n",
      "No. of unique songs for the user: 23\n",
      "no. of unique songs in the training set: 4483\n",
      "Non zero values in cooccurence_matrix :3834\n",
      "Getting recommendations for user:53ba380d234fd6022818340983570354ee207f6b\n",
      "No. of unique songs for the user: 10\n",
      "no. of unique songs in the training set: 4483\n",
      "Non zero values in cooccurence_matrix :348\n",
      "Getting recommendations for user:1a849df9dabb15845eb932d46d81e2fd77176786\n",
      "No. of unique songs for the user: 44\n",
      "no. of unique songs in the training set: 4483\n",
      "Non zero values in cooccurence_matrix :6357\n",
      "Getting recommendations for user:8814f5d1f1d7177aa2efb6de6454504f3bb7b7bc\n",
      "No. of unique songs for the user: 5\n",
      "no. of unique songs in the training set: 4483\n",
      "Non zero values in cooccurence_matrix :741\n",
      "Getting recommendations for user:d9f2ea75b38f548535caee41d2c0b0e3f9859b1b\n",
      "No. of unique songs for the user: 8\n",
      "no. of unique songs in the training set: 4483\n",
      "Non zero values in cooccurence_matrix :2187\n",
      "Getting recommendations for user:f608c215606e6421a429ea28ad08243241d5347d\n",
      "No. of unique songs for the user: 27\n",
      "no. of unique songs in the training set: 4483\n",
      "Non zero values in cooccurence_matrix :2286\n",
      "Getting recommendations for user:a54543f7282b66b3c8423181bf2789e1c7eb2edc\n",
      "No. of unique songs for the user: 10\n",
      "no. of unique songs in the training set: 4483\n",
      "Non zero values in cooccurence_matrix :1014\n",
      "Getting recommendations for user:ea64e003562d2f0f39e5a7dd84af5b1969e0fea3\n",
      "No. of unique songs for the user: 10\n",
      "no. of unique songs in the training set: 4483\n",
      "Non zero values in cooccurence_matrix :1151\n",
      "Getting recommendations for user:95b2ebf54cd69d732fa433ee8994be5818793efb\n",
      "No. of unique songs for the user: 12\n",
      "no. of unique songs in the training set: 4483\n",
      "Non zero values in cooccurence_matrix :646\n",
      "61.7630341053009\n"
     ]
    }
   ],
   "source": [
    "start = time.time()\n",
    "\n",
    "#Define what percentage of users to use for precision recall calculation\n",
    "user_sample = 0.05\n",
    "\n",
    "#Instantiate the precision_recall_calculator class\n",
    "pr = Evaluation.precision_recall_calculator(test_data, train_data, pm, is_model)\n",
    "\n",
    "#Call method to calculate precision and recall values\n",
    "(pm_avg_precision_list, pm_avg_recall_list, ism_avg_precision_list, ism_avg_recall_list) = pr.calculate_measures(user_sample)\n",
    "\n",
    "end = time.time()\n",
    "print(end - start)"
   ]
  },
  {
   "cell_type": "markdown",
   "metadata": {},
   "source": [
    "## Code to plot precision recall curve"
   ]
  },
  {
   "cell_type": "code",
   "execution_count": 21,
   "metadata": {
    "collapsed": true
   },
   "outputs": [],
   "source": [
    "import pylab as pl\n",
    "\n",
    "#Method to generate precision and recall curve\n",
    "def plot_precision_recall(m1_precision_list, m1_recall_list, m1_label, m2_precision_list, m2_recall_list, m2_label):\n",
    "    pl.clf()    \n",
    "    pl.plot(m1_recall_list, m1_precision_list, label=m1_label)\n",
    "    pl.plot(m2_recall_list, m2_precision_list, label=m2_label)\n",
    "    pl.xlabel('Recall')\n",
    "    pl.ylabel('Precision')\n",
    "    pl.ylim([0.0, 0.20])\n",
    "    pl.xlim([0.0, 0.20])\n",
    "    pl.title('Precision-Recall curve')\n",
    "    #pl.legend(loc=\"upper right\")\n",
    "    pl.legend(loc=9, bbox_to_anchor=(0.5, -0.2))\n",
    "    pl.show()\n"
   ]
  },
  {
   "cell_type": "code",
   "execution_count": 22,
   "metadata": {
    "collapsed": false
   },
   "outputs": [
    {
     "name": "stdout",
     "output_type": "stream",
     "text": [
      "Plotting precision recall curves.\n"
     ]
    },
    {
     "data": {
      "image/png": "[encoded data removed]",
      "text/plain": [
       "<matplotlib.figure.Figure at 0x10686d438>"
      ]
     },
     "metadata": {},
     "output_type": "display_data"
    }
   ],
   "source": [
    "print(\"Plotting precision recall curves.\")\n",
    "\n",
    "plot_precision_recall(pm_avg_precision_list, pm_avg_recall_list, \"popularity_model\",\n",
    "                      ism_avg_precision_list, ism_avg_recall_list, \"item_similarity_model\")\n"
   ]
  },
  {
   "cell_type": "markdown",
   "metadata": {},
   "source": [
    "### Generate Precision Recall curve using pickled results on a larger data subset(Python 3)"
   ]
  },
  {
   "cell_type": "code",
   "execution_count": 23,
   "metadata": {
    "collapsed": false
   },
   "outputs": [
    {
     "name": "stdout",
     "output_type": "stream",
     "text": [
      "Plotting precision recall curves for a larger subset of data (100,000 rows) (user sample = 0.005).\n",
      "Plotting precision recall curves.\n"
     ]
    },
    {
     "data": {
      "image/png": "[encoded data removed]",
      "text/plain": [
       "<matplotlib.figure.Figure at 0x112645128>"
      ]
     },
     "metadata": {},
     "output_type": "display_data"
    }
   ],
   "source": [
    "print(\"Plotting precision recall curves for a larger subset of data (100,000 rows) (user sample = 0.005).\")\n",
    "\n",
    "#Read the persisted files \n",
    "pm_avg_precision_list = joblib.load('pm_avg_precision_list_3.pkl')\n",
    "pm_avg_recall_list = joblib.load('pm_avg_recall_list_3.pkl')\n",
    "ism_avg_precision_list = joblib.load('ism_avg_precision_list_3.pkl')\n",
    "ism_avg_recall_list = joblib.load('ism_avg_recall_list_3.pkl')\n",
    "\n",
    "print(\"Plotting precision recall curves.\")\n",
    "plot_precision_recall(pm_avg_precision_list, pm_avg_recall_list, \"popularity_model\",\n",
    "                      ism_avg_precision_list, ism_avg_recall_list, \"item_similarity_model\")"
   ]
  },
  {
   "cell_type": "markdown",
   "metadata": {},
   "source": [
    "### Generate Precision Recall curve using pickled results on a larger data subset(Python 2.7)"
   ]
  },
  {
   "cell_type": "code",
   "execution_count": 24,
   "metadata": {
    "collapsed": false
   },
   "outputs": [
    {
     "name": "stdout",
     "output_type": "stream",
     "text": [
      "Plotting precision recall curves for a larger subset of data (100,000 rows) (user sample = 0.005).\n",
      "Plotting precision recall curves.\n"
     ]
    },
    {
     "data": {
      "image/png": "[encoded data removed]",
      "text/plain": [
       "<matplotlib.figure.Figure at 0x1146a1390>"
      ]
     },
     "metadata": {},
     "output_type": "display_data"
    }
   ],
   "source": [
    "print(\"Plotting precision recall curves for a larger subset of data (100,000 rows) (user sample = 0.005).\")\n",
    "\n",
    "pm_avg_precision_list = joblib.load('pm_avg_precision_list_2.pkl')\n",
    "pm_avg_recall_list = joblib.load('pm_avg_recall_list_2.pkl')\n",
    "ism_avg_precision_list = joblib.load('ism_avg_precision_list_2.pkl')\n",
    "ism_avg_recall_list = joblib.load('ism_avg_recall_list_2.pkl')\n",
    "\n",
    "print(\"Plotting precision recall curves.\")\n",
    "plot_precision_recall(pm_avg_precision_list, pm_avg_recall_list, \"popularity_model\",\n",
    "                      ism_avg_precision_list, ism_avg_recall_list, \"item_similarity_model\")"
   ]
  },
  {
   "cell_type": "markdown",
   "metadata": {
    "collapsed": true
   },
   "source": [
    "The curve shows that the personalized model provides much better performance over the popularity model. "
   ]
  },
  {
   "cell_type": "markdown",
   "metadata": {},
   "source": [
    "# Matrix Factorization based Recommender System"
   ]
  },
  {
   "cell_type": "raw",
   "metadata": {},
   "source": [
    "Using SVD matrix factorization based collaborative filtering recommender system\n",
    "--------------------------------------------------------------------------------\n",
    "\n",
    "The following code implements a Singular Value Decomposition (SVD) based matrix factorization collaborative filtering recommender system. The user ratings matrix used is a small matrix as follows:\n",
    "\n",
    "        Item0   Item1   Item2   Item3\n",
    "User0     3        1       2      3\n",
    "User1     4        3       4      3\n",
    "User2     3        2       1      5\n",
    "User3     1        6       5      2\n",
    "User4     0        0       5      0\n",
    "\n",
    "As we can see in the above matrix, all users except user 4 rate all items. The code calculates predicted recommendations for user 4."
   ]
  },
  {
   "cell_type": "markdown",
   "metadata": {},
   "source": [
    "### Import the required libraries"
   ]
  },
  {
   "cell_type": "code",
   "execution_count": 25,
   "metadata": {
    "collapsed": true
   },
   "outputs": [],
   "source": [
    "#Code source written with help from: \n",
    "#http://antoinevastel.github.io/machine%20learning/python/2016/02/14/svd-recommender-system.html\n",
    "\n",
    "import math as mt\n",
    "import csv\n",
    "from sparsesvd import sparsesvd #used for matrix factorization\n",
    "import numpy as np\n",
    "from scipy.sparse import csc_matrix #used for sparse matrix\n",
    "from scipy.sparse.linalg import * #used for matrix multiplication\n",
    "\n",
    "#Note: You may need to install the library sparsesvd. Documentation for \n",
    "#sparsesvd method can be found here:\n",
    "#https://pypi.python.org/pypi/sparsesvd/"
   ]
  },
  {
   "cell_type": "markdown",
   "metadata": {},
   "source": [
    "### Methods to compute SVD and recommendations"
   ]
  },
  {
   "cell_type": "code",
   "execution_count": 26,
   "metadata": {
    "collapsed": true
   },
   "outputs": [],
   "source": [
    "#constants defining the dimensions of our User Rating Matrix (URM)\n",
    "MAX_PID = 4\n",
    "MAX_UID = 5\n",
    "\n",
    "#Compute SVD of the user ratings matrix\n",
    "def computeSVD(urm, K):\n",
    "    U, s, Vt = sparsesvd(urm, K)\n",
    "\n",
    "    dim = (len(s), len(s))\n",
    "    S = np.zeros(dim, dtype=np.float32)\n",
    "    for i in range(0, len(s)):\n",
    "        S[i,i] = mt.sqrt(s[i])\n",
    "\n",
    "    U = csc_matrix(np.transpose(U), dtype=np.float32)\n",
    "    S = csc_matrix(S, dtype=np.float32)\n",
    "    Vt = csc_matrix(Vt, dtype=np.float32)\n",
    "    \n",
    "    return U, S, Vt\n",
    "\n",
    "#Compute estimated rating for the test user\n",
    "def computeEstimatedRatings(urm, U, S, Vt, uTest, K, test):\n",
    "    rightTerm = S*Vt \n",
    "\n",
    "    estimatedRatings = np.zeros(shape=(MAX_UID, MAX_PID), dtype=np.float16)\n",
    "    for userTest in uTest:\n",
    "        prod = U[userTest, :]*rightTerm\n",
    "        #we convert the vector to dense format in order to get the indices \n",
    "        #of the movies with the best estimated ratings \n",
    "        estimatedRatings[userTest, :] = prod.todense()\n",
    "        recom = (-estimatedRatings[userTest, :]).argsort()[:250]\n",
    "    return recom\n"
   ]
  },
  {
   "cell_type": "markdown",
   "metadata": {},
   "source": [
    "### Use SVD to make predictions for a test user id, say 4"
   ]
  },
  {
   "cell_type": "code",
   "execution_count": 27,
   "metadata": {
    "collapsed": false
   },
   "outputs": [
    {
     "name": "stdout",
     "output_type": "stream",
     "text": [
      "User id for whom recommendations are needed: 4\n",
      "Predictied ratings:\n",
      "[0 3 2 1]\n"
     ]
    }
   ],
   "source": [
    "#Used in SVD calculation (number of latent factors)\n",
    "K=2\n",
    "\n",
    "#Initialize a sample user rating matrix\n",
    "urm = np.array([[3, 1, 2, 3],[4, 3, 4, 3],[3, 2, 1, 5], [1, 6, 5, 2], [5, 0,0 , 0]])\n",
    "urm = csc_matrix(urm, dtype=np.float32)\n",
    "\n",
    "#Compute SVD of the input user ratings matrix\n",
    "U, S, Vt = computeSVD(urm, K)\n",
    "\n",
    "#Test user set as user_id 4 with ratings [0, 0, 5, 0]\n",
    "uTest = [4]\n",
    "print(\"User id for whom recommendations are needed: %d\" % uTest[0])\n",
    "\n",
    "#Get estimated rating for test user\n",
    "print(\"Predictied ratings:\")\n",
    "uTest_recommended_items = computeEstimatedRatings(urm, U, S, Vt, uTest, K, True)\n",
    "print(uTest_recommended_items)"
   ]
  },
  {
   "cell_type": "markdown",
   "metadata": {},
   "source": [
    "### Quiz 4"
   ]
  },
  {
   "cell_type": "raw",
   "metadata": {},
   "source": [
    "a.) Change the input matrix row for test userid 4 in the user ratings matrix to the following value. Note the difference in predicted recommendations in this case.\n",
    "\n",
    "i.) [5 0 0 0]\n",
    "\n",
    "\n",
    "(Note*: The predicted ratings by the code include the items already rated by test user as well. This has been left purposefully like this for better understanding of SVD).\n",
    "\n",
    "SVD tutorial: http://web.mit.edu/be.400/www/SVD/Singular_Value_Decomposition.htm"
   ]
  },
  {
   "cell_type": "markdown",
   "metadata": {},
   "source": [
    "## Understanding Intuition behind SVD"
   ]
  },
  {
   "cell_type": "raw",
   "metadata": {},
   "source": [
    "SVD result gives three matrices as output: U, S and Vt (T in Vt means transpose). Matrix U represents user vectors and Matrix Vt represents item vectors. In simple terms, U represents users as 2 dimensional points in the latent vector space, and Vt represents items as 2 dimensional points in the same space.\n"
   ]
  },
  {
   "cell_type": "raw",
   "metadata": {},
   "source": [
    "Next, we print the matrices U, S and Vt and try to interpret them. Think how the points for users and items will look like in a 2 dimensional axis. For example, the following code plots all user vectors from the matrix U in the 2 dimensional space. Similarly, we plot all the item vectors in the same plot from the matrix Vt.\n"
   ]
  },
  {
   "cell_type": "code",
   "execution_count": 28,
   "metadata": {
    "collapsed": false
   },
   "outputs": [
    {
     "name": "stdout",
     "output_type": "stream",
     "text": [
      "Matrix Dimensions for U\n",
      "(5, 2)\n"
     ]
    },
    {
     "data": {
      "image/png": "[encoded data removed]",
      "text/plain": [
       "<matplotlib.figure.Figure at 0x11264f048>"
      ]
     },
     "metadata": {},
     "output_type": "display_data"
    }
   ],
   "source": [
    "%matplotlib inline\n",
    "from pylab import *\n",
    "\n",
    "#Plot all the users\n",
    "print(\"Matrix Dimensions for U\")\n",
    "print(U.shape)\n",
    "\n",
    "for i in range(0, U.shape[0]):\n",
    "    plot(U[i,0], U[i,1], marker = \"*\", label=\"user\"+str(i))\n",
    "\n",
    "for j in range(0, Vt.T.shape[0]):\n",
    "    plot(Vt.T[j,0], Vt.T[j,1], marker = 'd', label=\"item\"+str(j))    \n",
    "    \n",
    "legend(loc=\"upper right\")\n",
    "title('User vectors in the Latent semantic space')\n",
    "ylim([-0.7, 0.7])\n",
    "xlim([-0.7, 0])\n",
    "show()"
   ]
  }
 ],
 "metadata": {
  "kernelspec": {
   "display_name": "Python 3",
   "language": "python",
   "name": "python3"
  },
  "language_info": {
   "codemirror_mode": {
    "name": "ipython",
    "version": 3
   },
   "file_extension": ".py",
   "mimetype": "text/x-python",
   "name": "python",
   "nbconvert_exporter": "python",
   "pygments_lexer": "ipython3",
   "version": "3.5.2"
  }
 },
 "nbformat": 4,
 "nbformat_minor": 0
}
